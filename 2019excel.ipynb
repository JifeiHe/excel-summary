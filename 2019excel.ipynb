{
 "cells": [
  {
   "cell_type": "code",
   "execution_count": 1,
   "metadata": {},
   "outputs": [],
   "source": [
    "import os\n",
    "import numpy as np\n",
    "import pandas as pd\n",
    "import glob \n",
    "import openpyxl"
   ]
  },
  {
   "cell_type": "code",
   "execution_count": 2,
   "metadata": {},
   "outputs": [],
   "source": [
    "dir = \""\n",
    "os.chdir(dir)"
   ]
  },
  {
   "cell_type": "code",
   "execution_count": 3,
   "metadata": {},
   "outputs": [
    {
     "name": "stderr",
     "output_type": "stream",
     "text": [
      "/anaconda3/lib/python3.7/site-packages/pandas/io/excel.py:329: FutureWarning: The `sheetname` keyword is deprecated, use `sheet_name` instead\n",
      "  **kwds)\n"
     ]
    }
   ],
   "source": [
    "#Delete the summary page before input the file\n",
    "dfs = pd.read_excel('Jan 11th Hotel no summary.xlsx', sheetname=None, ignore_index=True)\n",
    "#Merge all the sheets\n",
    "df=pd.concat([df.assign(name=n) for n,df in dfs.items()])"
   ]
  },
  {
   "cell_type": "code",
   "execution_count": 4,
   "metadata": {},
   "outputs": [],
   "source": [
    "df=df.reset_index(drop=True)"
   ]
  },
  {
   "cell_type": "code",
   "execution_count": 21,
   "metadata": {
    "scrolled": true
   },
   "outputs": [
    {
     "data": {
      "text/html": [
       "<div>\n",
       "<style scoped>\n",
       "    .dataframe tbody tr th:only-of-type {\n",
       "        vertical-align: middle;\n",
       "    }\n",
       "\n",
       "    .dataframe tbody tr th {\n",
       "        vertical-align: top;\n",
       "    }\n",
       "\n",
       "    .dataframe thead th {\n",
       "        text-align: right;\n",
       "    }\n",
       "</style>\n",
       "<table border=\"1\" class=\"dataframe\">\n",
       "  <thead>\n",
       "    <tr style=\"text-align: right;\">\n",
       "      <th></th>\n",
       "      <th>Token</th>\n",
       "    </tr>\n",
       "    <tr>\n",
       "      <th>name</th>\n",
       "      <th></th>\n",
       "    </tr>\n",
       "  </thead>\n",
       "  <tbody>\n",
       "    <tr>\n",
       "      <th>Widget_Hotel_New_Otani--9</th>\n",
       "      <td>10</td>\n",
       "    </tr>\n",
       "    <tr>\n",
       "      <th>Kyoto-Granbell-Hotel-Handy-1</th>\n",
       "      <td>4</td>\n",
       "    </tr>\n",
       "    <tr>\n",
       "      <th>l_confirmation_Hotel_Sunroute_P</th>\n",
       "      <td>3</td>\n",
       "    </tr>\n",
       "    <tr>\n",
       "      <th>kyoto_city-26</th>\n",
       "      <td>3</td>\n",
       "    </tr>\n",
       "    <tr>\n",
       "      <th>Handy-Namba-Oriental-Hotel-22</th>\n",
       "      <td>3</td>\n",
       "    </tr>\n",
       "    <tr>\n",
       "      <th>Handy-Holiday-Inn-Osaka-Namba-4</th>\n",
       "      <td>2</td>\n",
       "    </tr>\n",
       "    <tr>\n",
       "      <th>Widget_Holiday_Inn_Namba--5</th>\n",
       "      <td>2</td>\n",
       "    </tr>\n",
       "    <tr>\n",
       "      <th>Mimaru-Ueno-East_-17</th>\n",
       "      <td>2</td>\n",
       "    </tr>\n",
       "    <tr>\n",
       "      <th>MimaruUenoEast__-18</th>\n",
       "      <td>2</td>\n",
       "    </tr>\n",
       "    <tr>\n",
       "      <th>Mimaru_FB--12</th>\n",
       "      <td>2</td>\n",
       "    </tr>\n",
       "    <tr>\n",
       "      <th>Mimaru_Ueno_Inaricho__-19</th>\n",
       "      <td>1</td>\n",
       "    </tr>\n",
       "    <tr>\n",
       "      <th>ebisu-001-0</th>\n",
       "      <td>1</td>\n",
       "    </tr>\n",
       "    <tr>\n",
       "      <th>Shinjuku-Granbell-Hotel-3</th>\n",
       "      <td>1</td>\n",
       "    </tr>\n",
       "    <tr>\n",
       "      <th>Shibuya-Granbell-Hotel-Handy-2</th>\n",
       "      <td>1</td>\n",
       "    </tr>\n",
       "    <tr>\n",
       "      <th>ROYAL_PARK_KYOTO_SHIJO-25</th>\n",
       "      <td>1</td>\n",
       "    </tr>\n",
       "    <tr>\n",
       "      <th>ROYAL_PARK_KYOTO_SANJO-23</th>\n",
       "      <td>1</td>\n",
       "    </tr>\n",
       "    <tr>\n",
       "      <th>MimaruUenoNorth__-21</th>\n",
       "      <td>1</td>\n",
       "    </tr>\n",
       "    <tr>\n",
       "      <th>Mimaru_Kyoto_Shinmachi_Sanjo--1</th>\n",
       "      <td>1</td>\n",
       "    </tr>\n",
       "    <tr>\n",
       "      <th>Mimaru-Ueno-North-20</th>\n",
       "      <td>1</td>\n",
       "    </tr>\n",
       "    <tr>\n",
       "      <th>Mimaru-Tokyo-Akasaka_-16</th>\n",
       "      <td>1</td>\n",
       "    </tr>\n",
       "    <tr>\n",
       "      <th>Mimaru-Nihonbashi-Suitengumae_-</th>\n",
       "      <td>1</td>\n",
       "    </tr>\n",
       "    <tr>\n",
       "      <th>MIMARU-NihonbashiSuitengumae__-</th>\n",
       "      <td>1</td>\n",
       "    </tr>\n",
       "    <tr>\n",
       "      <th>INTERNAL_ROYAL_PARK_KYOTO_SHIJO</th>\n",
       "      <td>1</td>\n",
       "    </tr>\n",
       "    <tr>\n",
       "      <th>INTERNAL_Hotel_Felice_Shinsaiba</th>\n",
       "      <td>1</td>\n",
       "    </tr>\n",
       "    <tr>\n",
       "      <th>Hotel_Sunroute_Plaza_Shinjuku--</th>\n",
       "      <td>1</td>\n",
       "    </tr>\n",
       "    <tr>\n",
       "      <th>Hotel_Jogakura-8</th>\n",
       "      <td>1</td>\n",
       "    </tr>\n",
       "    <tr>\n",
       "      <th>Hotel_Felice_Shinsaibashi--6</th>\n",
       "      <td>1</td>\n",
       "    </tr>\n",
       "    <tr>\n",
       "      <th>tokyostation-27</th>\n",
       "      <td>1</td>\n",
       "    </tr>\n",
       "  </tbody>\n",
       "</table>\n",
       "</div>"
      ],
      "text/plain": [
       "                                 Token\n",
       "name                                  \n",
       "Widget_Hotel_New_Otani--9           10\n",
       "Kyoto-Granbell-Hotel-Handy-1         4\n",
       "l_confirmation_Hotel_Sunroute_P      3\n",
       "kyoto_city-26                        3\n",
       "Handy-Namba-Oriental-Hotel-22        3\n",
       "Handy-Holiday-Inn-Osaka-Namba-4      2\n",
       "Widget_Holiday_Inn_Namba--5          2\n",
       "Mimaru-Ueno-East_-17                 2\n",
       "MimaruUenoEast__-18                  2\n",
       "Mimaru_FB--12                        2\n",
       "Mimaru_Ueno_Inaricho__-19            1\n",
       "ebisu-001-0                          1\n",
       "Shinjuku-Granbell-Hotel-3            1\n",
       "Shibuya-Granbell-Hotel-Handy-2       1\n",
       "ROYAL_PARK_KYOTO_SHIJO-25            1\n",
       "ROYAL_PARK_KYOTO_SANJO-23            1\n",
       "MimaruUenoNorth__-21                 1\n",
       "Mimaru_Kyoto_Shinmachi_Sanjo--1      1\n",
       "Mimaru-Ueno-North-20                 1\n",
       "Mimaru-Tokyo-Akasaka_-16             1\n",
       "Mimaru-Nihonbashi-Suitengumae_-      1\n",
       "MIMARU-NihonbashiSuitengumae__-      1\n",
       "INTERNAL_ROYAL_PARK_KYOTO_SHIJO      1\n",
       "INTERNAL_Hotel_Felice_Shinsaiba      1\n",
       "Hotel_Sunroute_Plaza_Shinjuku--      1\n",
       "Hotel_Jogakura-8                     1\n",
       "Hotel_Felice_Shinsaibashi--6         1\n",
       "tokyostation-27                      1"
      ]
     },
     "execution_count": 21,
     "metadata": {},
     "output_type": "execute_result"
    }
   ],
   "source": [
    "df = df [['Token','Date/Time','name','Bebot messages']]\n",
    "df['Token']=df['Token'].fillna(method='ffill')\n",
    "#Calculate the number of unique Token\n",
    "n_user_hotel=df.groupby('name')['Token'].nunique().to_frame().sort_values(by='Token', ascending=False)\n",
    "n_user=df['Token'].nunique()\n",
    "n_user_hotel"
   ]
  },
  {
   "cell_type": "code",
   "execution_count": 6,
   "metadata": {},
   "outputs": [],
   "source": [
    "#Calculate chat time\n",
    "df['Date/Time']=pd.to_datetime(df['Date/Time'])"
   ]
  },
  {
   "cell_type": "code",
   "execution_count": 7,
   "metadata": {},
   "outputs": [],
   "source": [
    "df['diff']=df.sort_values(['Token','Date/Time']).groupby('Token')['Date/Time'].diff()\n",
    "df_diff=df[['Token','Date/Time','name','diff']]"
   ]
  },
  {
   "cell_type": "code",
   "execution_count": 8,
   "metadata": {
    "scrolled": true
   },
   "outputs": [],
   "source": [
    "#drop the rows when the chat stoped for 5 min \n",
    "#df_dff=df[df['diff']< pd.to_timedelta('0 days 00:5:00')]"
   ]
  },
  {
   "cell_type": "code",
   "execution_count": 9,
   "metadata": {},
   "outputs": [
    {
     "name": "stderr",
     "output_type": "stream",
     "text": [
      "/anaconda3/lib/python3.7/site-packages/pandas/core/indexing.py:543: SettingWithCopyWarning: \n",
      "A value is trying to be set on a copy of a slice from a DataFrame.\n",
      "Try using .loc[row_indexer,col_indexer] = value instead\n",
      "\n",
      "See the caveats in the documentation: http://pandas.pydata.org/pandas-docs/stable/indexing.html#indexing-view-versus-copy\n",
      "  self.obj[item] = s\n"
     ]
    },
    {
     "data": {
      "text/plain": [
       "pandas.core.frame.DataFrame"
      ]
     },
     "execution_count": 9,
     "metadata": {},
     "output_type": "execute_result"
    }
   ],
   "source": [
    "df_diff.loc[df_diff['diff']>pd.to_timedelta('0 days 00:5:00'), 'diff']=pd.to_timedelta('0 days 00:1:00')\n",
    "type(df_diff)"
   ]
  },
  {
   "cell_type": "code",
   "execution_count": 10,
   "metadata": {},
   "outputs": [],
   "source": [
    "duration_time=df_diff.groupby(['Token','name']).sum()"
   ]
  },
  {
   "cell_type": "code",
   "execution_count": 11,
   "metadata": {},
   "outputs": [],
   "source": [
    "#Find the max duration time\n",
    "max_duration=(duration_time[pd.to_timedelta(duration_time['diff'])==pd.to_timedelta(duration_time['diff']).max()])+pd.to_timedelta('0 days 00:1:00')"
   ]
  },
  {
   "cell_type": "code",
   "execution_count": 12,
   "metadata": {},
   "outputs": [],
   "source": [
    "#Get the number of rate me\n",
    "be_message=df[['name','Token','Bebot messages']].dropna()"
   ]
  },
  {
   "cell_type": "code",
   "execution_count": 13,
   "metadata": {},
   "outputs": [],
   "source": [
    "rate=be_message[be_message['Bebot messages'].str.contains(\"rate me|写个好评|寫個好評\")]['Bebot messages']#.count()\n",
    "n_rate=rate.count()"
   ]
  },
  {
   "cell_type": "code",
   "execution_count": 14,
   "metadata": {},
   "outputs": [
    {
     "name": "stdout",
     "output_type": "stream",
     "text": [
      "Active users -- 50\n",
      "Max_duration --                               diff\n",
      "Token    name                     \n",
      "b05299f7 Hotel_Jogakura-8 00:27:00\n",
      "Review Requests -- 90     Hope you’re enjoying your stay ? I’d be so hap...\n",
      "100    希望您喜欢我们的服务?衷心希望您能通过附上链接给我们酒店和我写个好评欧： https://b...\n",
      "308    Hope you’re enjoying your stay ? I’d be so hap...\n",
      "Name: Bebot messages, dtype: object\n",
      "Number of Review Requests -- 3\n"
     ]
    }
   ],
   "source": [
    "print(\"Active users --\", n_user)\n",
    "print(\"Max_duration --\", max_duration)\n",
    "print(\"Review Requests --\", rate)\n",
    "print(\"Number of Review Requests --\", n_rate)"
   ]
  },
  {
   "cell_type": "code",
   "execution_count": null,
   "metadata": {},
   "outputs": [],
   "source": []
  },
  {
   "cell_type": "code",
   "execution_count": null,
   "metadata": {
    "collapsed": true
   },
   "outputs": [],
   "source": []
  },
  {
   "cell_type": "code",
   "execution_count": null,
   "metadata": {
    "collapsed": true
   },
   "outputs": [],
   "source": []
  },
  {
   "cell_type": "code",
   "execution_count": null,
   "metadata": {
    "collapsed": true
   },
   "outputs": [],
   "source": []
  },
  {
   "cell_type": "code",
   "execution_count": null,
   "metadata": {
    "collapsed": true
   },
   "outputs": [],
   "source": []
  },
  {
   "cell_type": "code",
   "execution_count": null,
   "metadata": {
    "collapsed": true
   },
   "outputs": [],
   "source": []
  },
  {
   "cell_type": "code",
   "execution_count": null,
   "metadata": {
    "collapsed": true
   },
   "outputs": [],
   "source": []
  },
  {
   "cell_type": "code",
   "execution_count": null,
   "metadata": {
    "collapsed": true
   },
   "outputs": [],
   "source": []
  },
  {
   "cell_type": "code",
   "execution_count": null,
   "metadata": {
    "collapsed": true
   },
   "outputs": [],
   "source": []
  }
 ],
 "metadata": {
  "anaconda-cloud": {},
  "kernelspec": {
   "display_name": "Python 3",
   "language": "python",
   "name": "python3"
  },
  "language_info": {
   "codemirror_mode": {
    "name": "ipython",
    "version": 3
   },
   "file_extension": ".py",
   "mimetype": "text/x-python",
   "name": "python",
   "nbconvert_exporter": "python",
   "pygments_lexer": "ipython3",
   "version": "3.7.1"
  }
 },
 "nbformat": 4,
 "nbformat_minor": 1
}
